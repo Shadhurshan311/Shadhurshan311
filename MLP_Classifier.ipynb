{
  "nbformat": 4,
  "nbformat_minor": 0,
  "metadata": {
    "colab": {
      "provenance": [],
      "authorship_tag": "ABX9TyPyJWakU/szC+jObcHRJF6x",
      "include_colab_link": true
    },
    "kernelspec": {
      "name": "python3",
      "display_name": "Python 3"
    },
    "language_info": {
      "name": "python"
    }
  },
  "cells": [
    {
      "cell_type": "markdown",
      "metadata": {
        "id": "view-in-github",
        "colab_type": "text"
      },
      "source": [
        "<a href=\"https://colab.research.google.com/github/Shadhurshan311/Shadhurshan311/blob/main/MLP_Classifier.ipynb\" target=\"_parent\"><img src=\"https://colab.research.google.com/assets/colab-badge.svg\" alt=\"Open In Colab\"/></a>"
      ]
    },
    {
      "cell_type": "markdown",
      "source": [
        "Training with **MLP** classifier Model"
      ],
      "metadata": {
        "id": "W__7BXi_ZC26"
      }
    },
    {
      "cell_type": "code",
      "source": [
        "import pandas as pd\n",
        "import torch\n",
        "import torch.nn as nn\n",
        "from sklearn.model_selection import train_test_split\n",
        "from sklearn.preprocessing import StandardScaler, LabelEncoder\n",
        "\n",
        "# Step 1: Load CSV file with header\n",
        "data = pd.read_csv(\"/content/samplePLUS.csv\")\n",
        "\n",
        "# Step 2: Clean up and named the coloumns\n",
        "data.columns = ['Capacitance', 'Humidity', 'Temperature', 'Thickness', 'CrackType']\n",
        "data.columns = data.columns.str.strip()\n",
        "\n",
        "# Step 3: Encode crack types to numeric classes\n",
        "label_encoder = LabelEncoder()\n",
        "data['CrackType'] = label_encoder.fit_transform(data['CrackType'])\n",
        "\n",
        "# Step 4: Split features and labels\n",
        "X = data[['Capacitance', 'Humidity', 'Temperature', 'Thickness']].values\n",
        "y = data['CrackType'].values\n",
        "\n",
        "# Step 5: Train/test split\n",
        "X_train, X_test, y_train, y_test = train_test_split(X, y, test_size=0.2, random_state=42)\n",
        "\n",
        "# Step 6: Normalize features\n",
        "scaler = StandardScaler()\n",
        "X_train = scaler.fit_transform(X_train)\n",
        "X_test = scaler.transform(X_test)\n",
        "\n",
        "# Step 7: Convert to PyTorch tensors\n",
        "X_train = torch.tensor(X_train, dtype=torch.float32)\n",
        "X_test = torch.tensor(X_test, dtype=torch.float32)\n",
        "y_train = torch.tensor(y_train, dtype=torch.long)\n",
        "y_test = torch.tensor(y_test, dtype=torch.long)\n",
        "\n",
        "# Step 8: Define model\n",
        "model = nn.Sequential(\n",
        "    nn.Linear(4, 16),                                                         # 4 - 4 input variables [Capacitance,Humidity,Temperature,thickness of the Concrete structure]\n",
        "    nn.ReLU(),                                                                # 1 - predict either Crack is there or not\n",
        "    nn.Linear(16, len(set(y)))  # auto set output size by unique class count\n",
        ")\n",
        "\n",
        "loss_fn = nn.CrossEntropyLoss()\n",
        "optimizer = torch.optim.Adam(model.parameters(), lr=0.01)\n",
        "\n",
        "# Step 9: Training loop\n",
        "for epoch in range(300):\n",
        "    model.train()\n",
        "    y_pred = model(X_train)\n",
        "    loss = loss_fn(y_pred, y_train)\n",
        "\n",
        "    optimizer.zero_grad()\n",
        "    loss.backward()\n",
        "    optimizer.step()\n",
        "\n",
        "    if epoch % 50 == 0:\n",
        "        print(f\"Epoch {epoch} Loss: {loss.item():.4f}\")\n",
        "\n",
        "# Step 10: Evaluation\n",
        "model.eval()\n",
        "with torch.no_grad():\n",
        "    y_test_pred = model(X_test)\n",
        "    y_pred_classes = torch.argmax(y_test_pred, dim=1)\n",
        "    accuracy = (y_pred_classes == y_test).float().mean()\n",
        "    print(f\"\\nTest Accuracy: {accuracy.item() * 100:.2f}%\")\n",
        "\n",
        "    # Decode labels for printing\n",
        "    predicted_labels = label_encoder.inverse_transform(y_pred_classes.numpy())\n",
        "    actual_labels = label_encoder.inverse_transform(y_test.numpy())\n",
        "\n",
        "    print(\"\\nPredictions vs Actual:\")\n",
        "    for actual, predicted in zip(actual_labels, predicted_labels):\n",
        "        print(f\"Actual: {actual}, Predicted: {predicted}\")\n",
        "\n",
        "\n"
      ],
      "metadata": {
        "colab": {
          "base_uri": "https://localhost:8080/"
        },
        "id": "ApgFIXfLWHMk",
        "outputId": "93759765-ebed-4460-be75-81fdef3e2e4c"
      },
      "execution_count": 8,
      "outputs": [
        {
          "output_type": "stream",
          "name": "stdout",
          "text": [
            "Epoch 0 Loss: 0.6890\n",
            "Epoch 50 Loss: 0.4613\n",
            "Epoch 100 Loss: 0.4431\n",
            "Epoch 150 Loss: 0.4364\n",
            "Epoch 200 Loss: 0.4330\n",
            "Epoch 250 Loss: 0.4308\n",
            "\n",
            "Test Accuracy: 62.50%\n",
            "\n",
            "Predictions vs Actual:\n",
            "Actual: Crack, Predicted: Crack\n",
            "Actual: Crack, Predicted: Crack\n",
            "Actual: Crack, Predicted: NonCrack\n",
            "Actual: Crack, Predicted: Crack\n",
            "Actual: Crack, Predicted: Crack\n",
            "Actual: NonCrack, Predicted: Crack\n",
            "Actual: Crack, Predicted: NonCrack\n",
            "Actual: Crack, Predicted: Crack\n"
          ]
        }
      ]
    },
    {
      "cell_type": "markdown",
      "source": [
        "Checking with Confusion matrix\n"
      ],
      "metadata": {
        "id": "wtLt5_WtY5yU"
      }
    },
    {
      "cell_type": "code",
      "source": [
        "import pandas as pd\n",
        "import torch\n",
        "import torch.nn as nn\n",
        "from sklearn.model_selection import train_test_split\n",
        "from sklearn.preprocessing import StandardScaler, LabelEncoder\n",
        "\n",
        "# Step 1: Load CSV file with header\n",
        "data = pd.read_csv(\"/content/samplePLUS.csv\")\n",
        "\n",
        "# Step 2: Clean up and rename columns if needed\n",
        "data.columns = ['Capacitance', 'Humidity', 'Temperature', 'Thickness', 'CrackType']\n",
        "data.columns = data.columns.str.strip()\n",
        "\n",
        "# Step 3: Encode crack types to numeric classes\n",
        "label_encoder = LabelEncoder()\n",
        "data['CrackType'] = label_encoder.fit_transform(data['CrackType'])\n",
        "\n",
        "# Step 4: Split features and labels\n",
        "X = data[['Capacitance', 'Humidity', 'Temperature', 'Thickness']].values\n",
        "y = data['CrackType'].values\n",
        "\n",
        "# Step 5: Train/test split\n",
        "X_train, X_test, y_train, y_test = train_test_split(X, y, test_size=0.2, random_state=42)\n",
        "\n",
        "# Step 6: Normalize features\n",
        "scaler = StandardScaler()\n",
        "X_train = scaler.fit_transform(X_train)\n",
        "X_test = scaler.transform(X_test)\n",
        "\n",
        "# Step 7: Convert to PyTorch tensors\n",
        "X_train = torch.tensor(X_train, dtype=torch.float32)\n",
        "X_test = torch.tensor(X_test, dtype=torch.float32)\n",
        "y_train = torch.tensor(y_train, dtype=torch.long)\n",
        "y_test = torch.tensor(y_test, dtype=torch.long)\n",
        "\n",
        "# Step 8: Define model\n",
        "mlp_model = nn.Sequential(\n",
        "    nn.Linear(4, 16),\n",
        "    nn.ReLU(),\n",
        "    nn.Linear(16, len(set(y)))  # auto set output size by unique class count\n",
        ")\n",
        "\n",
        "loss_fn = nn.CrossEntropyLoss()\n",
        "optimizer = torch.optim.Adam(mlp_model.parameters(), lr=0.01)\n",
        "\n",
        "# Step 9: Training loop\n",
        "for epoch in range(300):\n",
        "    mlp_model.train()\n",
        "    y_pred = mlp_model(X_train)\n",
        "    loss = loss_fn(y_pred, y_train)\n",
        "\n",
        "    optimizer.zero_grad()\n",
        "    loss.backward()\n",
        "    optimizer.step()\n",
        "\n",
        "    if epoch % 50 == 0:\n",
        "        print(f\"Epoch {epoch} Loss: {loss.item():.4f}\")\n",
        "\n",
        "# Step 10: Evaluation\n",
        "mlp_model.eval()\n",
        "with torch.no_grad():\n",
        "    y_test_pred = mlp_model(X_test)\n",
        "    y_pred_classes = torch.argmax(y_test_pred, dim=1)\n",
        "    accuracy = (y_pred_classes == y_test).float().mean()\n",
        "    print(f\"\\nTest Accuracy: {accuracy.item() * 100:.2f}%\")\n",
        "\n",
        "    # Decode labels for printing\n",
        "    predicted_labels = label_encoder.inverse_transform(y_pred_classes.numpy())\n",
        "    actual_labels = label_encoder.inverse_transform(y_test.numpy())\n",
        "\n",
        "    print(\"\\nPredictions vs Actual:\")\n",
        "    for actual, predicted in zip(actual_labels, predicted_labels):\n",
        "        print(f\"Actual: {actual}, Predicted: {predicted}\")\n",
        "\n",
        "from sklearn.metrics import confusion_matrix, ConfusionMatrixDisplay\n",
        "import matplotlib.pyplot as plt\n",
        "\n",
        "# Run prediction (you already have this after training)\n",
        "mlp_model.eval()\n",
        "with torch.no_grad():\n",
        "    y_pred_mlp = mlp_model(X_test)\n",
        "    predicted_classes = torch.argmax(y_pred_mlp, dim=1)\n",
        "\n",
        "# Confusion Matrix\n",
        "cm = confusion_matrix(y_test.numpy(), predicted_classes.numpy())\n",
        "ConfusionMatrixDisplay(confusion_matrix=cm, display_labels=label_encoder.classes_).plot(cmap='Oranges')\n",
        "plt.title(\"MLP Confusion Matrix\")\n",
        "plt.show()\n",
        "\n",
        "\n",
        "\n"
      ],
      "metadata": {
        "colab": {
          "base_uri": "https://localhost:8080/",
          "height": 784
        },
        "id": "yz4DWdjAYkoS",
        "outputId": "70e5e169-5bea-4f2c-886f-dca967164c1d"
      },
      "execution_count": 9,
      "outputs": [
        {
          "output_type": "stream",
          "name": "stdout",
          "text": [
            "Epoch 0 Loss: 0.6118\n",
            "Epoch 50 Loss: 0.4560\n",
            "Epoch 100 Loss: 0.4400\n",
            "Epoch 150 Loss: 0.4359\n",
            "Epoch 200 Loss: 0.4328\n",
            "Epoch 250 Loss: 0.4294\n",
            "\n",
            "Test Accuracy: 62.50%\n",
            "\n",
            "Predictions vs Actual:\n",
            "Actual: Crack, Predicted: Crack\n",
            "Actual: Crack, Predicted: Crack\n",
            "Actual: Crack, Predicted: NonCrack\n",
            "Actual: Crack, Predicted: Crack\n",
            "Actual: Crack, Predicted: Crack\n",
            "Actual: NonCrack, Predicted: Crack\n",
            "Actual: Crack, Predicted: NonCrack\n",
            "Actual: Crack, Predicted: Crack\n"
          ]
        },
        {
          "output_type": "display_data",
          "data": {
            "text/plain": [
              "<Figure size 640x480 with 2 Axes>"
            ],
            "image/png": "[encoded data removed]"
          },
          "metadata": {}
        }
      ]
    }
  ]
}